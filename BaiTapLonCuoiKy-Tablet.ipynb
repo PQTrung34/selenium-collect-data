{
 "cells": [
  {
   "cell_type": "code",
   "execution_count": 2,
   "id": "28fa8bfb",
   "metadata": {},
   "outputs": [],
   "source": [
    "import pandas as pd\n",
    "import numpy as np\n",
    "from random import randint\n",
    "from time import sleep\n",
    "from selenium import webdriver\n",
    "from selenium.webdriver.common.by import By\n",
    "from selenium.webdriver.common.action_chains import ActionChains"
   ]
  },
  {
   "cell_type": "markdown",
   "id": "f8e1f9ac",
   "metadata": {},
   "source": [
    "### Khởi tạo trình duyệt"
   ]
  },
  {
   "cell_type": "code",
   "execution_count": 3,
   "id": "9e867319",
   "metadata": {
    "scrolled": true
   },
   "outputs": [],
   "source": [
    "driver = webdriver.Chrome(executable_path='chromedriver.exe')\n",
    "driver.maximize_window()"
   ]
  },
  {
   "cell_type": "markdown",
   "id": "80303665",
   "metadata": {},
   "source": [
    "## Truy cập trang bán máy tính bảng của tiki"
   ]
  },
  {
   "cell_type": "code",
   "execution_count": null,
   "id": "1c6f18f3",
   "metadata": {},
   "outputs": [],
   "source": [
    "driver.get(\"https://tiki.vn/may-tinh-bang/c1794\")\n",
    "sleep(randint(5,10))"
   ]
  },
  {
   "cell_type": "markdown",
   "id": "7199b6e1",
   "metadata": {},
   "source": [
    "#### Lấy link và tên sản phẩm"
   ]
  },
  {
   "cell_type": "code",
   "execution_count": null,
   "id": "ca4c1aa2",
   "metadata": {},
   "outputs": [],
   "source": [
    "links_tiki = []\n",
    "title_tiki = []"
   ]
  },
  {
   "cell_type": "code",
   "execution_count": null,
   "id": "868024f2",
   "metadata": {},
   "outputs": [],
   "source": [
    "while True:\n",
    "    try:\n",
    "        # Lấy link và title của sản phẩm\n",
    "        products = driver.find_elements(By.CSS_SELECTOR, \".style__ProductLink-sc-7xd6qw-2.fHwskZ.product-item\")\n",
    "        for prod in products:\n",
    "            links_tiki.append(prod.get_attribute(\"href\"))\n",
    "            title_tiki.append(prod.find_element(By.CSS_SELECTOR, \"h3\").text)\n",
    "\n",
    "        # Load thêm sản phẩm\n",
    "        more_page = driver.find_element(By.CSS_SELECTOR, \".Pagination__Root-sc-cyke21-0.gNgpAR li:nth-of-type(5) a\")\n",
    "        if more_page.get_attribute(\"class\") == '':\n",
    "            more_page.click()\n",
    "            sleep(randint(5,10))\n",
    "        else:\n",
    "            break\n",
    "    except:\n",
    "        break"
   ]
  },
  {
   "cell_type": "code",
   "execution_count": null,
   "id": "5774a1cc",
   "metadata": {},
   "outputs": [],
   "source": [
    "len(links_tiki)"
   ]
  },
  {
   "cell_type": "code",
   "execution_count": null,
   "id": "8513f886",
   "metadata": {},
   "outputs": [],
   "source": [
    "len(title_tiki)"
   ]
  },
  {
   "cell_type": "markdown",
   "id": "7bdfa31f",
   "metadata": {},
   "source": [
    "Vậy có tổng cộng 92 sản phẩm"
   ]
  },
  {
   "cell_type": "markdown",
   "id": "cee8b28a",
   "metadata": {},
   "source": [
    "#### Lấy thông tin cụ thể từng sản phẩm"
   ]
  },
  {
   "cell_type": "code",
   "execution_count": null,
   "id": "7452c44a",
   "metadata": {},
   "outputs": [],
   "source": [
    "price_tiki = [] # Giá gốc\n",
    "discount_price_tiki = [] # Giá sau giảm giá\n",
    "discount_tiki = [] # Discount"
   ]
  },
  {
   "cell_type": "code",
   "execution_count": null,
   "id": "8dea853d",
   "metadata": {},
   "outputs": [],
   "source": [
    "res_tiki = [] # Độ phân giải\n",
    "screen_width_tiki = [] # Độ rộng màn hình\n",
    "os_tiki = [] # Hệ điều hành\n",
    "cpu_tiki = [] # Chip\n",
    "cpu_proc_speed_tiki = [] # Tốc độ xử lý cpu\n",
    "gpu_tiki = [] # Chip gpu\n",
    "ram_tiki = [] # Dung lượng ram\n",
    "storage_tiki = [] # Dung lượng lưu trữ\n",
    "front_camera_tiki = [] # Độ phân giải camera trước\n",
    "rear_camera_tiki = [] # Độ phân giải camera sau\n",
    "battery_tiki = [] # Dung lượng pin\n",
    "size_tiki = [] # Kích thước\n",
    "weight_tiki = [] # Khối lượng\n",
    "brand_tiki = [] # Hãng"
   ]
  },
  {
   "cell_type": "code",
   "execution_count": null,
   "id": "11d96e26",
   "metadata": {},
   "outputs": [],
   "source": [
    "for link in links_tiki:\n",
    "    # Truy cập từng link\n",
    "    driver.get(link)\n",
    "    \n",
    "    try:\n",
    "        # Nếu có discount\n",
    "        discount_price = int(''.join(driver.find_element(By.CSS_SELECTOR, \".product-price__current-price\").text[:-1].split('.')))\n",
    "        discount = driver.find_element(By.CSS_SELECTOR, \".product-price__discount-rate\").text[1:]\n",
    "        price = int(round(discount_price/(100-int(discount[:-1]))*100,-3))\n",
    "        price_tiki.append(price)\n",
    "        discount_price_tiki.append(discount_price)\n",
    "        discount_tiki.append(discount)\n",
    "    except:\n",
    "        try:\n",
    "            # Không có discount thì price = discount_price\n",
    "            discount_price = int(''.join(driver.find_element(By.CSS_SELECTOR, \".product-price__current-price\").text[:-1].split('.')))\n",
    "            price = int(''.join(driver.find_element(By.CSS_SELECTOR, \".product-price__current-price\").text[:-1].split('.')))\n",
    "            discount = \"0%\"\n",
    "            price_tiki.append(price)\n",
    "            discount_price_tiki.append(discount_price)\n",
    "            discount_tiki.append(discount)\n",
    "        except:\n",
    "            # Không có giá\n",
    "            price_tiki.append(None)\n",
    "            discount_price_tiki.append(None)\n",
    "            discount_tiki.append(None)\n",
    "        \n",
    "    # Lăn chuột dần dần để hiện thông tin\n",
    "    height = 0\n",
    "    while height<=2000:\n",
    "        driver.execute_script(f'window.scrollTo(0,{height})')\n",
    "        sleep(1)\n",
    "        height+=500\n",
    "       \n",
    "    # Đến chỗ thông tin sản phẩm\n",
    "    detail = driver.find_element(By.XPATH, \"//div[text()='Thông tin chi tiết']//parent::div//div[2]\")\n",
    "    ActionChains(driver).move_to_element(detail).perform()\n",
    "    sleep(1)\n",
    "    \n",
    "    # Lấy độ phân giải\n",
    "    try:\n",
    "        res = detail.find_element(By.XPATH, \"//span[text()='Độ phân giải']//parent::div//span[2]\").text\n",
    "        res_tiki.append(res)\n",
    "    except:\n",
    "        res_tiki.append(None)\n",
    "        \n",
    "    # Lấy độ rộng màn hình    \n",
    "    try:\n",
    "        screen_width = detail.find_element(By.XPATH, \"//span[text()='Kích thước màn hình']//parent::div//span[2]\").text\n",
    "        screen_width_tiki.append(screen_width)\n",
    "    except:\n",
    "        screen_width_tiki.append(None)\n",
    "        \n",
    "    # Lấy os    \n",
    "    try:\n",
    "        os = detail.find_element(By.XPATH, \"//span[text()='Hệ điều hành']//parent::div//span[2]\").text\n",
    "        os_tiki.append(os)\n",
    "    except:\n",
    "        os_tiki.append(None)\n",
    "\n",
    "    # Lấy cpu   \n",
    "    try:\n",
    "        cpu = detail.find_element(By.XPATH, \"//span[text()='Chip set']//parent::div//span[2]\").text\n",
    "        cpu_tiki.append(cpu)\n",
    "    except:\n",
    "        cpu_tiki.append(None)\n",
    "        \n",
    "    # Lấy tốc độ cpu    \n",
    "    try:\n",
    "        cpu_proc_speed = detail.find_element(By.XPATH, \"//span[text()='Tốc độ CPU']//parent::div//span[2]\").text\n",
    "        cpu_proc_speed_tiki.append(cpu_proc_speed)\n",
    "    except:\n",
    "        cpu_proc_speed_tiki.append(None)\n",
    "        \n",
    "    # Lấy gpu\n",
    "    try:\n",
    "        gpu = detail.find_element(By.XPATH, \"//span[text()='Chip đồ họa (GPU)']//parent::div//span[2]\").text\n",
    "        gpu_tiki.append(gpu)\n",
    "    except:\n",
    "        gpu_tiki.append(None)\n",
    "    \n",
    "    # Lấy ram\n",
    "    try:\n",
    "        ram = detail.find_element(By.XPATH, \"//span[text()='RAM']//parent::div//span[2]\").text\n",
    "        ram_tiki.append(ram)\n",
    "    except:\n",
    "        ram_tiki.append(None)\n",
    "        \n",
    "    # Lấy dung lượng    \n",
    "    try:\n",
    "        storage = detail.find_element(By.XPATH, \"//span[text()='ROM']//parent::div//span[2]\").text\n",
    "        storage_tiki.append(storage)\n",
    "    except:\n",
    "        storage_tiki.append(None)\n",
    "    \n",
    "    # Lấy camera sau\n",
    "    try:\n",
    "        rear_camera = detail.find_element(By.XPATH, \"//span[text()='Camera sau']//parent::div//span[2]\").text\n",
    "        rear_camera_tiki.append(rear_camera)\n",
    "    except:\n",
    "        rear_camera_tiki.append(None)\n",
    "        \n",
    "    # Lấy camera trước\n",
    "    try:\n",
    "        front_camera = detail.find_element(By.XPATH, \"//span[text()='Camera trước']//parent::div//span[2]\").text\n",
    "        front_camera_tiki.append(front_camera)\n",
    "    except:\n",
    "        front_camera_tiki.append(None)\n",
    "    \n",
    "    # Lấy dung lượng pin\n",
    "    try:\n",
    "        battery = detail.find_element(By.XPATH, \"//span[text()='Dung lượng pin']//parent::div//span[2]\").text\n",
    "        battery_tiki.append(battery)\n",
    "    except:\n",
    "        battery_tiki.append(None)\n",
    "        \n",
    "    # Lấy kích thước\n",
    "    try:\n",
    "        size = detail.find_element(By.XPATH, \"//span[text()='Kích thước']//parent::div//span[2]\").text\n",
    "        size_tiki.append(size)\n",
    "    except:\n",
    "        size_tiki.append(None)\n",
    "        \n",
    "    # Lấy trọng lượng\n",
    "    try:\n",
    "        weight = detail.find_element(By.XPATH, \"//span[text()='Trọng lượng sản phẩm']//parent::div//span[2]\").text\n",
    "        weight_tiki.append(weight)\n",
    "    except:\n",
    "        weight_tiki.append(None)\n",
    "        \n",
    "    # Lấy hãng\n",
    "    try:\n",
    "        brand = detail.find_element(By.XPATH, \"//span[text()='Thương hiệu']//parent::div//span[2]\").text\n",
    "        brand_tiki.append(brand)\n",
    "    except:\n",
    "        brand_tiki.append(None)"
   ]
  },
  {
   "cell_type": "markdown",
   "id": "a0b3ddda",
   "metadata": {},
   "source": [
    "## Truy cập trang bán máy tính bảng của cellphones"
   ]
  },
  {
   "cell_type": "code",
   "execution_count": null,
   "id": "6bf25a7e",
   "metadata": {},
   "outputs": [],
   "source": [
    "driver.get(\"https://cellphones.com.vn/tablet.html\")\n",
    "sleep(randint(5,10))\n",
    "\n",
    "# Load thêm sản phẩm\n",
    "while True:\n",
    "    try:\n",
    "        view_more = driver.find_element(By.CSS_SELECTOR, \".button.btn-show-more.button__show-more-product\")\n",
    "        ActionChains(driver).move_to_element(view_more).click().perform()\n",
    "        sleep(randint(5,10))\n",
    "    except:\n",
    "        break"
   ]
  },
  {
   "cell_type": "markdown",
   "id": "83437cd3",
   "metadata": {},
   "source": [
    "#### Lấy danh sách sản phẩm"
   ]
  },
  {
   "cell_type": "code",
   "execution_count": null,
   "id": "279df991",
   "metadata": {},
   "outputs": [],
   "source": [
    "cellphones_products = driver.find_elements(By.CSS_SELECTOR, \".product-info\")"
   ]
  },
  {
   "cell_type": "code",
   "execution_count": null,
   "id": "f3d88d48",
   "metadata": {},
   "outputs": [],
   "source": [
    "len(cellphones_products)"
   ]
  },
  {
   "cell_type": "markdown",
   "id": "4a3d7f06",
   "metadata": {},
   "source": [
    "Như vậy có thêm 109 sản phẩm."
   ]
  },
  {
   "cell_type": "markdown",
   "id": "6dea60f2",
   "metadata": {},
   "source": [
    "#### Lấy link và tên sản phẩm"
   ]
  },
  {
   "cell_type": "code",
   "execution_count": null,
   "id": "913de4d2",
   "metadata": {},
   "outputs": [],
   "source": [
    "links_cps = []\n",
    "title_cps = []"
   ]
  },
  {
   "cell_type": "code",
   "execution_count": null,
   "id": "2b6363f9",
   "metadata": {},
   "outputs": [],
   "source": [
    "for prod in cellphones_products:\n",
    "    links_cps.append(prod.find_element(By.CSS_SELECTOR, \".product__link.button__link\").get_attribute(\"href\"))\n",
    "    title_cps.append(prod.find_element(By.CSS_SELECTOR, \".product__name\").text)"
   ]
  },
  {
   "cell_type": "markdown",
   "id": "e63fd47f",
   "metadata": {},
   "source": [
    "##### Kiểm tra xem có đủ link và title chưa"
   ]
  },
  {
   "cell_type": "code",
   "execution_count": null,
   "id": "cc94a348",
   "metadata": {},
   "outputs": [],
   "source": [
    "len(links_cps)"
   ]
  },
  {
   "cell_type": "code",
   "execution_count": null,
   "id": "61a74663",
   "metadata": {
    "scrolled": true
   },
   "outputs": [],
   "source": [
    "len(title_cps)"
   ]
  },
  {
   "cell_type": "markdown",
   "id": "84416b00",
   "metadata": {},
   "source": [
    "#### Lấy thông tin về giá"
   ]
  },
  {
   "cell_type": "code",
   "execution_count": null,
   "id": "07dd6a2a",
   "metadata": {},
   "outputs": [],
   "source": [
    "price_cps = [] # Giá gốc\n",
    "discount_price_cps = [] # Giá sau khi giảm giá\n",
    "discount_cps = [] # Discount"
   ]
  },
  {
   "cell_type": "code",
   "execution_count": null,
   "id": "9dd62e5d",
   "metadata": {},
   "outputs": [],
   "source": [
    "for prod in cellphones_products:\n",
    "    try:\n",
    "        # Nếu có discount\n",
    "        price = int(''.join(prod.find_element(By.CSS_SELECTOR, \".product__price--through\").text[:-1].split('.')))\n",
    "        discount_price = int(''.join(prod.find_element(By.CSS_SELECTOR, \".product__price--show\").text[:-1].split('.')))\n",
    "        discount = prod.find_element(By.CSS_SELECTOR, \".product__price--percent-detail\").text.split(' ')[1]\n",
    "        price_cps.append(price)\n",
    "        discount_price_cps.append(discount_price)\n",
    "        discount_cps.append(discount)\n",
    "    except:\n",
    "        try:\n",
    "            # Không có discount thì price = discount_price\n",
    "            price = int(''.join(prod.find_element(By.CSS_SELECTOR, \".product__price--show\").text[:-1].split('.')))\n",
    "            discount_price = int(''.join(prod.find_element(By.CSS_SELECTOR, \".product__price--show\").text[:-1].split('.')))\n",
    "            discount = \"0%\"\n",
    "            price_cps.append(price)\n",
    "            discount_price_cps.append(discount_price)\n",
    "            discount_cps.append(discount)\n",
    "        except:\n",
    "            # Không có giá\n",
    "            price_cps.append(None)\n",
    "            discount_price_cps.append(None)\n",
    "            discount_cps.append(None)"
   ]
  },
  {
   "cell_type": "code",
   "execution_count": null,
   "id": "8e2ab69b",
   "metadata": {},
   "outputs": [],
   "source": [
    "len(price_cps)"
   ]
  },
  {
   "cell_type": "code",
   "execution_count": null,
   "id": "d929558f",
   "metadata": {},
   "outputs": [],
   "source": [
    "len(discount_price_cps)"
   ]
  },
  {
   "cell_type": "code",
   "execution_count": null,
   "id": "1ae6c0aa",
   "metadata": {},
   "outputs": [],
   "source": [
    "len(discount_cps)"
   ]
  },
  {
   "cell_type": "markdown",
   "id": "5430789e",
   "metadata": {},
   "source": [
    "#### Lấy thông tin cụ thể từng sản phẩm"
   ]
  },
  {
   "cell_type": "code",
   "execution_count": null,
   "id": "8cf7550e",
   "metadata": {},
   "outputs": [],
   "source": [
    "res_cps = [] # Độ phân giải\n",
    "screen_width_cps = [] # Độ rộng màn hình\n",
    "os_cps = [] # Hệ điều hành\n",
    "cpu_cps = [] # Chip\n",
    "cpu_proc_speed_cps = [] # Tốc độ xử lý cpu\n",
    "gpu_cps = [] # Chip gpu\n",
    "ram_cps = [] # Dung lượng ram\n",
    "storage_cps = [] # Dung lượng lưu trữ\n",
    "front_camera_cps = [] # Độ phân giải camera trước\n",
    "rear_camera_cps = [] # Độ phân giải camera sau\n",
    "battery_cps = [] # Dung lượng pin\n",
    "size_cps = [] # Kích thước\n",
    "weight_cps = [] # Trọng lượng\n",
    "brand_cps = [] # Hãng"
   ]
  },
  {
   "cell_type": "code",
   "execution_count": null,
   "id": "97fe8295",
   "metadata": {
    "scrolled": true
   },
   "outputs": [],
   "source": [
    "for link in links_cps:\n",
    "    # Truy cập vào từng link\n",
    "    driver.get(link)\n",
    "    \n",
    "    # Lăn chuột dần dần để hiện thông tin\n",
    "    height = 0\n",
    "    while height<=2000:\n",
    "        driver.execute_script(f'window.scrollTo(0,{height})')\n",
    "        sleep(1)\n",
    "        height+=500\n",
    "    \n",
    "    # Ấn hiện thêm thông tin\n",
    "    view_detail = driver.find_element(By.CSS_SELECTOR, \".button.button__show-modal-technical.my-3.is-flex.is-justify-content-center\")\n",
    "    driver.execute_script(\"arguments[0].click();\", view_detail)\n",
    "    sleep(1)\n",
    "    \n",
    "    detail = driver.find_element(By.CSS_SELECTOR, \".technical-content-modal\")\n",
    "    \n",
    "    # Lấy độ phân giải\n",
    "    try:\n",
    "        res = detail.find_element(By.XPATH, \"//a[text()='Độ phân giải màn hình']//parent::p//parent::div//div\")\n",
    "        ActionChains(driver).move_to_element(res).perform()\n",
    "        res_cps.append(res.text)\n",
    "    except:\n",
    "        res_cps.append(None)\n",
    "        \n",
    "    # Lấy độ rộng màn hình    \n",
    "    try:\n",
    "        screen_width = detail.find_element(By.XPATH, \"//a[text()='Kích thước màn hình']//parent::p//parent::div//div\")\n",
    "        ActionChains(driver).move_to_element(screen_width).perform()\n",
    "        screen_width_cps.append(screen_width.text)\n",
    "    except:\n",
    "        screen_width_cps.append(None)\n",
    "        \n",
    "    # Lấy os    \n",
    "    try:\n",
    "        os = detail.find_element(By.XPATH, \"//a[text()='Hệ điều hành']//parent::p//parent::div//div\")\n",
    "        ActionChains(driver).move_to_element(os).perform()\n",
    "        os_cps.append(os.text)\n",
    "    except:\n",
    "        os_cps.append(None)\n",
    "\n",
    "    # Lấy cpu   \n",
    "    try:\n",
    "        cpu = detail.find_element(By.XPATH, \"//a[text()='Chipset']//parent::p//parent::div//div\")\n",
    "        ActionChains(driver).move_to_element(cpu).perform()\n",
    "        cpu_cps.append(cpu.text)\n",
    "    except:\n",
    "        cpu_cps.append(None)\n",
    "        \n",
    "    # Lấy tốc độ cpu    \n",
    "    try:\n",
    "        cpu_proc_speed = detail.find_element(By.XPATH, \"//p[text()='Loại CPU']//parent::p//parent::div//div\")\n",
    "        ActionChains(driver).move_to_element(cpu_proc_speed).perform()\n",
    "        cpu_proc_speed_cps.append(cpu_proc_speed.text)\n",
    "    except:\n",
    "        cpu_proc_speed_cps.append(None)\n",
    "        \n",
    "    # Lấy gpu\n",
    "    try:\n",
    "        gpu = detail.find_element(By.XPATH, \"//a[text()='GPU']//parent::p//parent::div//div\")\n",
    "        ActionChains(driver).move_to_element(gpu).perform()\n",
    "        gpu_cps.append(gpu.text)\n",
    "    except:\n",
    "        gpu_cps.append(None)\n",
    "    \n",
    "    # Lấy ram\n",
    "    try:\n",
    "        ram = detail.find_element(By.XPATH, \"//a[text()='Dung lượng RAM']//parent::p//parent::div//div\")\n",
    "        ActionChains(driver).move_to_element(ram).perform()\n",
    "        ram_cps.append(ram.text)\n",
    "    except:\n",
    "        ram_cps.append(None)\n",
    "        \n",
    "    # Lấy dung lượng    \n",
    "    try:\n",
    "        storage = detail.find_element(By.XPATH, \"//a[text()='Bộ nhớ trong']//parent::p//parent::div//div\")\n",
    "        ActionChains(driver).move_to_element(storage).perform()\n",
    "        storage_cps.append(storage.text)\n",
    "    except:\n",
    "        storage_cps.append(None)\n",
    "    \n",
    "    # Lấy camera sau\n",
    "    try:\n",
    "        rear_camera = detail.find_element(By.XPATH, \"//p[text()='Camera sau']//parent::p//parent::div//div\")\n",
    "        ActionChains(driver).move_to_element(rear_camera).perform()\n",
    "        rear_camera_cps.append(rear_camera.text)\n",
    "    except:\n",
    "        rear_camera_cps.append(None)\n",
    "        \n",
    "    # Lấy camera trước\n",
    "    try:\n",
    "        front_camera = detail.find_element(By.XPATH, \"//p[text()='Camera trước']//parent::p//parent::div//div\")\n",
    "        ActionChains(driver).move_to_element(front_camera).perform()\n",
    "        front_camera_cps.append(front_camera.text)\n",
    "    except:\n",
    "        front_camera_cps.append(None)\n",
    "    \n",
    "    # Lấy dung lượng pin\n",
    "    try:\n",
    "        battery = detail.find_element(By.XPATH, \"//a[text()='Pin']//parent::p//parent::div//div\")\n",
    "        ActionChains(driver).move_to_element(battery).perform()\n",
    "        battery_cps.append(battery.text)\n",
    "    except:\n",
    "        battery_cps.append(None)\n",
    "        \n",
    "    # Lấy kích thước\n",
    "    try:\n",
    "        size = detail.find_element(By.XPATH, \"//p[text()='Kích thước']//parent::p//parent::div//div\")\n",
    "        ActionChains(driver).move_to_element(size).perform()\n",
    "        size_cps.append(size.text)\n",
    "    except:\n",
    "        size_cps.append(None)\n",
    "        \n",
    "    # Lấy trọng lượng\n",
    "    try:\n",
    "        weight = detail.find_element(By.XPATH, \"//p[text()='Trọng lượng']//parent::p//parent::div//div\")\n",
    "        ActionChains(driver).move_to_element(weight).perform()\n",
    "        weight_cps.append(weight.text)\n",
    "    except:\n",
    "        weight_cps.append(None)\n",
    "        \n",
    "    # Lấy hãng\n",
    "    try:\n",
    "        brand = detail.find_element(By.XPATH, \"//p[text()='Hãng']//parent::p//parent::div//div\")\n",
    "        ActionChains(driver).move_to_element(brand).perform()\n",
    "        brand_cps.append(brand.text)\n",
    "    except:\n",
    "        brand_cps.append(None)"
   ]
  },
  {
   "cell_type": "markdown",
   "id": "8240c372",
   "metadata": {},
   "source": [
    "## Truy cập trang bán máy tính bảng của viettelstore"
   ]
  },
  {
   "cell_type": "code",
   "execution_count": null,
   "id": "8e133f18",
   "metadata": {},
   "outputs": [],
   "source": [
    "driver.get(\"https://viettelstore.vn/may-tinh-bang\")\n",
    "sleep(randint(5,10))\n",
    "# Load thêm sản phẩm\n",
    "while True:\n",
    "    try:\n",
    "        view_more = driver.find_element(By.XPATH,\"//a[text()='Xem thêm sản phẩm ']\")\n",
    "        ActionChains(driver).move_to_element(view_more).click(view_more).perform()\n",
    "        sleep(randint(5,10))\n",
    "    except:\n",
    "        break"
   ]
  },
  {
   "cell_type": "markdown",
   "id": "2904b797",
   "metadata": {},
   "source": [
    "#### Lấy danh sách sản phẩm"
   ]
  },
  {
   "cell_type": "code",
   "execution_count": null,
   "id": "52b9c05a",
   "metadata": {},
   "outputs": [],
   "source": [
    "viettel_products = driver.find_elements(By.CSS_SELECTOR, \".product-info\")"
   ]
  },
  {
   "cell_type": "code",
   "execution_count": null,
   "id": "bbe64ef2",
   "metadata": {
    "scrolled": true
   },
   "outputs": [],
   "source": [
    "len(viettel_products)"
   ]
  },
  {
   "cell_type": "markdown",
   "id": "47576001",
   "metadata": {},
   "source": [
    "Như vậy có thêm 57 sản phẩm."
   ]
  },
  {
   "cell_type": "markdown",
   "id": "f4a6ad82",
   "metadata": {},
   "source": [
    "#### Lấy links và tên sản phẩm"
   ]
  },
  {
   "cell_type": "code",
   "execution_count": null,
   "id": "f7a6de15",
   "metadata": {},
   "outputs": [],
   "source": [
    "links_viettel = []\n",
    "title_viettel = []"
   ]
  },
  {
   "cell_type": "code",
   "execution_count": null,
   "id": "32f68fc3",
   "metadata": {},
   "outputs": [],
   "source": [
    "for prod in viettel_products:\n",
    "    links_viettel.append(prod.find_element(By.CSS_SELECTOR, \"a\").get_attribute(\"href\"))\n",
    "    title_viettel.append(prod.find_element(By.CSS_SELECTOR, \"h3\").text)"
   ]
  },
  {
   "cell_type": "markdown",
   "id": "0a312b3b",
   "metadata": {},
   "source": [
    "##### Kiểm tra xem đủ link và title chưa"
   ]
  },
  {
   "cell_type": "code",
   "execution_count": null,
   "id": "759a267d",
   "metadata": {
    "scrolled": true
   },
   "outputs": [],
   "source": [
    "len(links_viettel)"
   ]
  },
  {
   "cell_type": "code",
   "execution_count": null,
   "id": "132e6228",
   "metadata": {},
   "outputs": [],
   "source": [
    "len(title_viettel)"
   ]
  },
  {
   "cell_type": "markdown",
   "id": "c3ebbe42",
   "metadata": {},
   "source": [
    "#### Lấy thông tin về giá"
   ]
  },
  {
   "cell_type": "code",
   "execution_count": null,
   "id": "e1f67820",
   "metadata": {},
   "outputs": [],
   "source": [
    "price_viettel = [] # Giá gốc\n",
    "discount_price_viettel = [] # Giá sau khi giảm giá\n",
    "discount_viettel = [] # Discount"
   ]
  },
  {
   "cell_type": "code",
   "execution_count": null,
   "id": "19f5128f",
   "metadata": {},
   "outputs": [],
   "source": [
    "for prod in viettel_products:\n",
    "    try:\n",
    "        # Nếu có discount\n",
    "        price = int(''.join(prod.find_element(By.CSS_SELECTOR, \".price-old\").text[:-2].split('.')))\n",
    "        discount_price = int(''.join(prod.find_element(By.CSS_SELECTOR, \".price\").text[:-2].split('.')))\n",
    "        discount = prod.find_element(By.CSS_SELECTOR, \".percent-discount-text2\").text\n",
    "        price_viettel.append(price)\n",
    "        discount_price_viettel.append(discount_price)\n",
    "        discount_viettel.append(discount)\n",
    "    except:\n",
    "        try:\n",
    "            # Không có discount thì price = discount_price\n",
    "            price = int(''.join(prod.find_element(By.CSS_SELECTOR, \".price\").text[:-2].split('.')))\n",
    "            discount_price = int(''.join(prod.find_element(By.CSS_SELECTOR, \".price\").text[:-2].split('.')))\n",
    "            discount = \"0%\"\n",
    "            price_viettel.append(price)\n",
    "            discount_price_viettel.append(discount_price)\n",
    "            discount_viettel.append(discount)\n",
    "        except:\n",
    "            # Không có giá\n",
    "            price_viettel.append(None)\n",
    "            discount_price_viettel.append(None)\n",
    "            discount_viettel.append(None)"
   ]
  },
  {
   "cell_type": "markdown",
   "id": "bebde019",
   "metadata": {},
   "source": [
    "#### Lấy thông tin cụ thể từng sản phẩm"
   ]
  },
  {
   "cell_type": "code",
   "execution_count": null,
   "id": "c1a030b1",
   "metadata": {},
   "outputs": [],
   "source": [
    "res_viettel = [] # Độ phân giải\n",
    "screen_width_viettel = [] # Độ rộng màn hình\n",
    "os_viettel = [] # Hệ điều hành\n",
    "cpu_viettel = [] # Chip\n",
    "cpu_proc_speed_viettel = [] # Tốc độ xử lý cpu\n",
    "gpu_viettel = [] # Chip gpu\n",
    "ram_viettel = [] # Dung lượng ram\n",
    "storage_viettel = [] # Dung lượng lưu trữ\n",
    "front_camera_viettel = [] # Độ phân giải camera trước\n",
    "rear_camera_viettel = [] # Độ phân giải camera sau\n",
    "battery_viettel = [] # Dung lượng pin\n",
    "size_viettel = [] # Kích thước\n",
    "weight_viettel = [] # Trọng lượng\n",
    "brand_viettel = [] # Hãng"
   ]
  },
  {
   "cell_type": "code",
   "execution_count": null,
   "id": "e2d49b6b",
   "metadata": {},
   "outputs": [],
   "source": [
    "for link in links_viettel:\n",
    "    # Truy cập từng link\n",
    "    driver.get(link)\n",
    "    \n",
    "    # Lăn chuột dần dần để hiện thông tin\n",
    "    height = 0\n",
    "    while height<=2000:\n",
    "        driver.execute_script(f'window.scrollTo(0,{height})')\n",
    "        sleep(1)\n",
    "        height+=500\n",
    "    \n",
    "    # Ấn hiện thêm thông tin\n",
    "    try:\n",
    "        view_detail = driver.find_element(By.CSS_SELECTOR, \"#navcau-hinh.detail\")\n",
    "        driver.execute_script(\"arguments[0].click();\", view_detail)\n",
    "        sleep(1)\n",
    "    except:\n",
    "        pass\n",
    "    \n",
    "    # Lấy độ phân giải\n",
    "    try:\n",
    "        res = driver.find_element(By.XPATH, \"//td[text()='Độ phân giải']//parent::tr//td[2]\")\n",
    "        ActionChains(driver).move_to_element(res).perform()\n",
    "        res_viettel.append(res.text)\n",
    "    except:\n",
    "        res_viettel.append(None)\n",
    "        \n",
    "    # Lấy độ rộng màn hình    \n",
    "    try:\n",
    "        screen_width = driver.find_element(By.XPATH, \"//td[text()='Kích thước màn hình']//parent::tr//td[2]\")\n",
    "        ActionChains(driver).move_to_element(screen_width).perform()\n",
    "        screen_width_viettel.append(screen_width.text)\n",
    "    except:\n",
    "        screen_width_viettel.append(None)\n",
    "        \n",
    "    # Lấy os    \n",
    "    try:\n",
    "        os = driver.find_element(By.XPATH, \"//td[text()='Hệ điều hành']//parent::tr//td[2]\")\n",
    "        ActionChains(driver).move_to_element(os).perform()\n",
    "        os_viettel.append(os.text)\n",
    "    except:\n",
    "        os_viettel.append(None)\n",
    "\n",
    "    # Lấy cpu   \n",
    "    try:\n",
    "        cpu = driver.find_element(By.XPATH, \"//td[text()='Chipset']//parent::tr//td[2]\")\n",
    "        ActionChains(driver).move_to_element(cpu).perform()\n",
    "        cpu_viettel.append(cpu.text)\n",
    "    except:\n",
    "        cpu_viettel.append(None)\n",
    "        \n",
    "    # Lấy tốc độ cpu    \n",
    "    try:\n",
    "        cpu_proc_speed = driver.find_element(By.XPATH, \"//td[text()='Số nhân CPU']//parent::tr//td[2]\")\n",
    "        ActionChains(driver).move_to_element(cpu_proc_speed).perform()\n",
    "        cpu_proc_speed_viettel.append(cpu_proc_speed.text)\n",
    "    except:\n",
    "        cpu_proc_speed_viettel.append(None)\n",
    "        \n",
    "    # Lấy gpu\n",
    "    try:\n",
    "        gpu = driver.find_element(By.XPATH, \"//td[text()='Chip đồ họa (GPU)']//parent::tr//td[2]\")\n",
    "        ActionChains(driver).move_to_element(gpu).perform()\n",
    "        gpu_viettel.append(gpu.text)\n",
    "    except:\n",
    "        gpu_viettel.append(None)\n",
    "    \n",
    "    # Lấy ram\n",
    "    try:\n",
    "        ram = driver.find_element(By.XPATH, \"//td[text()='RAM']//parent::tr//td[2]\")\n",
    "        ActionChains(driver).move_to_element(ram).perform()\n",
    "        ram_viettel.append(ram.text)\n",
    "    except:\n",
    "        ram_viettel.append(None)\n",
    "        \n",
    "    # Lấy dung lượng    \n",
    "    try:\n",
    "        storage = driver.find_element(By.XPATH, \"//td[text()='Bộ nhớ trong']//parent::tr//td[2]\")\n",
    "        ActionChains(driver).move_to_element(storage).perform()\n",
    "        storage_viettel.append(storage.text)\n",
    "    except:\n",
    "        storage_viettel.append(None)\n",
    "    \n",
    "    # Lấy camera sau\n",
    "    try:\n",
    "        rear_camera = driver.find_element(By.XPATH, \"//td[text()='Camera sau']//parent::tr//td[2]\")\n",
    "        ActionChains(driver).move_to_element(rear_camera).perform()\n",
    "        rear_camera_viettel.append(rear_camera.text)\n",
    "    except:\n",
    "        rear_camera_viettel.append(None)\n",
    "        \n",
    "    # Lấy camera trước\n",
    "    try:\n",
    "        front_camera = driver.find_element(By.XPATH, \"//td[text()='Camera trước']//parent::tr//td[2]\")\n",
    "        ActionChains(driver).move_to_element(front_camera).perform()\n",
    "        front_camera_viettel.append(front_camera.text)\n",
    "    except:\n",
    "        front_camera_viettel.append(None)\n",
    "    \n",
    "    # Lấy dung lượng pin\n",
    "    try:\n",
    "        battery = driver.find_element(By.XPATH, \"//td[text()='Dung lượng Pin']//parent::tr//td[2]\")\n",
    "        ActionChains(driver).move_to_element(battery).perform()\n",
    "        battery_viettel.append(battery.text)\n",
    "    except:\n",
    "        battery_viettel.append(None)\n",
    "        \n",
    "    # Lấy kích thước\n",
    "    try:\n",
    "        size = driver.find_element(By.XPATH, \"//td[text()='Kích thước']//parent::tr//td[2]\")\n",
    "        ActionChains(driver).move_to_element(size).perform()\n",
    "        size_viettel.append(size.text)\n",
    "    except:\n",
    "        size_viettel.append(None)\n",
    "        \n",
    "    # Lấy trọng lượng\n",
    "    try:\n",
    "        weight = driver.find_element(By.XPATH, \"//td[text()='Trọng lượng']//parent::tr//td[2]\")\n",
    "        ActionChains(driver).move_to_element(weight).perform()\n",
    "        weight_viettel.append(weight.text)\n",
    "    except:\n",
    "        weight_viettel.append(None)\n",
    "        \n",
    "    # Lấy hãng\n",
    "    try:\n",
    "        brand = driver.find_element(By.XPATH, \"//td[text()='Hãng']//parent::tr//td[2]\")\n",
    "        ActionChains(driver).move_to_element(brand).perform()\n",
    "        brand_viettel.append(brand.text)\n",
    "    except:\n",
    "        brand_viettel.append(None)"
   ]
  },
  {
   "cell_type": "markdown",
   "id": "bd6f7285",
   "metadata": {},
   "source": [
    "## Tổng hợp lại"
   ]
  },
  {
   "cell_type": "code",
   "execution_count": null,
   "id": "59766132",
   "metadata": {},
   "outputs": [],
   "source": [
    "links = links_viettel + links_cps + links_tiki\n",
    "title = title_viettel + title_cps + title_tiki\n",
    "price_list = price_viettel + price_cps + price_tiki\n",
    "discount_price_list = discount_price_viettel + discount_price_cps + discount_price_tiki\n",
    "discount_list = discount_viettel + discount_cps + discount_tiki"
   ]
  },
  {
   "cell_type": "code",
   "execution_count": null,
   "id": "6eaa2577",
   "metadata": {},
   "outputs": [],
   "source": [
    "res_list = res_viettel + res_cps + res_tiki\n",
    "screen_width_list = screen_width_viettel + screen_width_cps + screen_width_tiki\n",
    "os_list = os_viettel + os_cps + os_tiki\n",
    "cpu_list = cpu_viettel + cpu_cps + cpu_tiki\n",
    "cpu_proc_speed_list = cpu_proc_speed_viettel + cpu_proc_speed_cps + cpu_proc_speed_tiki\n",
    "gpu_list = gpu_viettel + gpu_cps + gpu_tiki\n",
    "ram_list = ram_viettel + ram_cps + ram_tiki\n",
    "storage_list = storage_viettel + storage_cps + storage_tiki\n",
    "front_camera_list = front_camera_viettel + front_camera_cps + front_camera_tiki\n",
    "rear_camera_list = rear_camera_viettel + rear_camera_cps + rear_camera_tiki\n",
    "battery_list = battery_viettel + battery_cps + battery_tiki\n",
    "size_list = size_viettel + size_cps + size_tiki\n",
    "weight_list = weight_viettel + weight_cps + weight_tiki\n",
    "brand_list = brand_viettel + brand_cps + brand_tiki"
   ]
  },
  {
   "cell_type": "code",
   "execution_count": null,
   "id": "ea92ec10",
   "metadata": {},
   "outputs": [],
   "source": [
    "data = pd.DataFrame(list(zip(title, price_list, discount_price_list, discount_list, res_list, screen_width_list, os_list,\n",
    "                        cpu_list, cpu_proc_speed_list, gpu_list, ram_list, storage_list, front_camera_list, rear_camera_list,\n",
    "                        battery_list, size_list, weight_list, brand_list , links)), \n",
    "                    columns = ['title', 'price', 'discount_price', 'discount', 'resolution', 'screen_width',\n",
    "                   'os', 'cpu', 'cpu_proc_speed', 'gpu', 'ram', 'storage', 'front_camera', 'rear_camera',\n",
    "                   'battery', 'size', 'weight', 'brand', 'link'])"
   ]
  },
  {
   "cell_type": "markdown",
   "id": "1d073019",
   "metadata": {},
   "source": [
    "##### Kiểm tra xem đủ số lượng chưa"
   ]
  },
  {
   "cell_type": "code",
   "execution_count": null,
   "id": "029a5b0e",
   "metadata": {
    "scrolled": true
   },
   "outputs": [],
   "source": [
    "len(data)"
   ]
  },
  {
   "cell_type": "markdown",
   "id": "363b492d",
   "metadata": {},
   "source": [
    "Như vậy đã tổng hợp đủ số lượng sản phẩm của 3 trang bán hàng."
   ]
  },
  {
   "cell_type": "markdown",
   "id": "43e3be40",
   "metadata": {},
   "source": [
    "#### Lưu data xuống database"
   ]
  },
  {
   "cell_type": "code",
   "execution_count": null,
   "id": "81f58b84",
   "metadata": {},
   "outputs": [],
   "source": [
    "import sqlite3"
   ]
  },
  {
   "cell_type": "code",
   "execution_count": null,
   "id": "3653656b",
   "metadata": {},
   "outputs": [],
   "source": [
    "conn = sqlite3.connect('tablet.db', check_same_thread=False)"
   ]
  },
  {
   "cell_type": "code",
   "execution_count": null,
   "id": "802e9296",
   "metadata": {},
   "outputs": [],
   "source": [
    "data.to_sql('Tablet', con = conn, if_exists = 'append')"
   ]
  },
  {
   "cell_type": "markdown",
   "id": "cfe69ba7",
   "metadata": {},
   "source": [
    "#### Lưu data xuống file csv"
   ]
  },
  {
   "cell_type": "code",
   "execution_count": null,
   "id": "04078e7e",
   "metadata": {},
   "outputs": [],
   "source": [
    "data.to_excel(\"tablet.xlsx\", index=False)"
   ]
  },
  {
   "cell_type": "markdown",
   "id": "8814808d",
   "metadata": {},
   "source": [
    "## 1. Đọc data"
   ]
  },
  {
   "cell_type": "code",
   "execution_count": null,
   "id": "606e5c90",
   "metadata": {},
   "outputs": [],
   "source": [
    "data = pd.read_excel('tablet.xlsx')"
   ]
  },
  {
   "cell_type": "code",
   "execution_count": null,
   "id": "60e72881",
   "metadata": {
    "scrolled": true
   },
   "outputs": [],
   "source": [
    "data.head()"
   ]
  },
  {
   "cell_type": "code",
   "execution_count": null,
   "id": "209e20ff",
   "metadata": {
    "scrolled": true
   },
   "outputs": [],
   "source": [
    "data.shape"
   ]
  },
  {
   "cell_type": "code",
   "execution_count": null,
   "id": "8df11a5c",
   "metadata": {},
   "outputs": [],
   "source": [
    "data.info()"
   ]
  },
  {
   "cell_type": "code",
   "execution_count": null,
   "id": "74e3ed02",
   "metadata": {
    "scrolled": false
   },
   "outputs": [],
   "source": [
    "data.columns"
   ]
  },
  {
   "cell_type": "markdown",
   "id": "ee41cfe9",
   "metadata": {},
   "source": [
    "**Nhận xét**\n",
    "\n",
    "- Dữ liệu gồm 258 dòng và 19 thuộc tính\n",
    "- Có 2 thuộc tính là định lượng và 17 thuộc tính là định tính"
   ]
  },
  {
   "cell_type": "markdown",
   "id": "d0372487",
   "metadata": {},
   "source": [
    "## 2. Kiểm tra một số vấn đề của dữ liệu"
   ]
  },
  {
   "cell_type": "markdown",
   "id": "4961c247",
   "metadata": {},
   "source": [
    "### 2.1. Kiểm tra dữ liệu bị thiếu"
   ]
  },
  {
   "cell_type": "code",
   "execution_count": null,
   "id": "4bcfdbb4",
   "metadata": {
    "scrolled": true
   },
   "outputs": [],
   "source": [
    "data_missing = data.isnull()\n",
    "data_missing.sum()[data_missing.sum()>0]"
   ]
  },
  {
   "cell_type": "markdown",
   "id": "a1dd4180",
   "metadata": {},
   "source": [
    "**Nhận xét**\n",
    "\n",
    "- Có đến 17 cột bị thiếu dữ liệu.\n",
    "- Nhìn qua ta thấy 3 cột price, discount_price, discount bị thiếu số dữ liệu như nhau.\n",
    "- Các cột os, cpu_proc_speed, screen_width, gpu, front_camera, front_camera, brand bị thiếu khá nhiều dữ liệu.\n",
    "- Cột brand bị thiếu nhiều dữ liệu nhất."
   ]
  },
  {
   "cell_type": "markdown",
   "id": "bf21b37a",
   "metadata": {},
   "source": [
    "#### a. Kiểm tra thuộc tính price và discount\n",
    "\n",
    "- price là giá của sản phẩm\n",
    "- discount_price là giá sau khi giảm giá (nếu có discount, không thì = price)\n",
    "- discount là tỷ lệ giảm giá"
   ]
  },
  {
   "cell_type": "code",
   "execution_count": null,
   "id": "e77994e9",
   "metadata": {
    "scrolled": true
   },
   "outputs": [],
   "source": [
    "price_missing = data[data['price'].isnull()].loc[:,['price','discount_price','discount']]\n",
    "price_missing.head(10)"
   ]
  },
  {
   "cell_type": "markdown",
   "id": "d41e8cb2",
   "metadata": {},
   "source": [
    "**Nhận xét**\n",
    "\n",
    "- Những dòng bị thiếu thuộc tính price thì đều bị thiếu thuộc tính discount_price và discount.\n",
    "- Dữ liệu về price, discount_price, discount bị thiếu có thể do sản phẩm ngưng bán hoặc ngưng sản xuất hoặc chưa cập nhật giá.\n",
    "- Các cột còn lại bị thiếu dữ liệu có thể do trang web không cập nhật thông tin của sản phẩm, thiếu sót trong lúc nhập thông tin sản phẩm lên trang web, thông tin chi tiết của sản phẩm không được công bố, công bố không chi tiết."
   ]
  },
  {
   "cell_type": "markdown",
   "id": "b1647efc",
   "metadata": {},
   "source": [
    "### 2.2. Kiểm tra dữ liệu bị lặp\n",
    "\n",
    "- Kiểm tra xem có dòng nào giống nhau hoàn toàn hay không\n",
    "- Kiểm tra xem có dòng nào trùng tên sản phẩm không\n",
    "- Kiểm tra xem có dòng nào trùng cả tên sản phẩm và giá không"
   ]
  },
  {
   "cell_type": "markdown",
   "id": "f4eeedc9",
   "metadata": {},
   "source": [
    "#### a. Kiểm tra dòng bị lặp"
   ]
  },
  {
   "cell_type": "code",
   "execution_count": null,
   "id": "cc3b9b44",
   "metadata": {},
   "outputs": [],
   "source": [
    "data_dup = data[data.duplicated(keep=False)]\n",
    "data_dup.head(10)"
   ]
  },
  {
   "cell_type": "markdown",
   "id": "c4e6d9db",
   "metadata": {},
   "source": [
    "Như vậy không có dòng nào bị lặp dữ liệu"
   ]
  },
  {
   "cell_type": "markdown",
   "id": "66798802",
   "metadata": {},
   "source": [
    "#### b. Kiểm tra tên sản phẩm"
   ]
  },
  {
   "cell_type": "code",
   "execution_count": null,
   "id": "62b03a39",
   "metadata": {
    "scrolled": true
   },
   "outputs": [],
   "source": [
    "data[data.duplicated(keep=False, subset=['title'])]"
   ]
  },
  {
   "cell_type": "code",
   "execution_count": null,
   "id": "8ff68cc3",
   "metadata": {},
   "outputs": [],
   "source": [
    "len(data[data.duplicated(keep=False, subset=['title'])])"
   ]
  },
  {
   "cell_type": "markdown",
   "id": "d971444f",
   "metadata": {},
   "source": [
    "#### c. Kiểm tra tên và giá sản phẩm"
   ]
  },
  {
   "cell_type": "code",
   "execution_count": null,
   "id": "78042e5a",
   "metadata": {
    "scrolled": true
   },
   "outputs": [],
   "source": [
    "data[data.duplicated(keep=False, subset=['title','price'])]"
   ]
  },
  {
   "cell_type": "code",
   "execution_count": null,
   "id": "ad5264ad",
   "metadata": {},
   "outputs": [],
   "source": [
    "len(data[data.duplicated(keep=False, subset=['title','price'])])"
   ]
  },
  {
   "cell_type": "markdown",
   "id": "50b2ba29",
   "metadata": {},
   "source": [
    "**Nhận xét**\n",
    "\n",
    "- Có 21 dòng bị lặp lại tên sản phẩm\n",
    "- Có 12 dòng bị lặp lại cả tên sản phẩm và giá\n",
    "- Do các trang web bán cùng loại sản phẩm."
   ]
  },
  {
   "cell_type": "markdown",
   "id": "f77b3394",
   "metadata": {},
   "source": [
    "### 2.3. Kiểm tra tính logic của dữ liệu\n",
    "\n",
    "- price, discount_price < 0\n",
    "- Sản phẩm có discount nhưng price < discount_price\n",
    "- Sản phẩm không có discount nhưng price != discount_price\n",
    "- Một số thuộc tính như ram, storage, battery, size, weight có giá trị âm hoặc giá trị bất thường"
   ]
  },
  {
   "cell_type": "markdown",
   "id": "57b1feb9",
   "metadata": {},
   "source": [
    "#### a. price, discount_price < 0"
   ]
  },
  {
   "cell_type": "code",
   "execution_count": null,
   "id": "667856ef",
   "metadata": {
    "scrolled": false
   },
   "outputs": [],
   "source": [
    "data[data['price'] < 0 & data['price'].notnull()]"
   ]
  },
  {
   "cell_type": "code",
   "execution_count": null,
   "id": "9692251a",
   "metadata": {},
   "outputs": [],
   "source": [
    "data[data['discount_price'] < 0 & data['discount_price'].notnull()]"
   ]
  },
  {
   "cell_type": "markdown",
   "id": "5e2905b4",
   "metadata": {},
   "source": [
    "Như vậy không có dòng nào mà có **price** và **discount_price** < 0."
   ]
  },
  {
   "cell_type": "markdown",
   "id": "7ae29d2e",
   "metadata": {},
   "source": [
    "#### b. Sản phẩm có discount nhưng price < discount_price"
   ]
  },
  {
   "cell_type": "code",
   "execution_count": null,
   "id": "8688684c",
   "metadata": {},
   "outputs": [],
   "source": [
    "data[(data['price'] < data['discount_price'])]"
   ]
  },
  {
   "cell_type": "markdown",
   "id": "974fd156",
   "metadata": {},
   "source": [
    "Như vậy không có dòng nào mà sản phẩm có discount nhưng price < discount_price."
   ]
  },
  {
   "cell_type": "markdown",
   "id": "0843be99",
   "metadata": {},
   "source": [
    "#### c. Sản phẩm không có discount nhưng price != discount_price"
   ]
  },
  {
   "cell_type": "code",
   "execution_count": null,
   "id": "6ea701a4",
   "metadata": {
    "scrolled": true
   },
   "outputs": [],
   "source": [
    "data[(data['price'] != data['discount_price']) & data['discount']=='0%']"
   ]
  },
  {
   "cell_type": "markdown",
   "id": "f1cbd6c7",
   "metadata": {},
   "source": [
    "Như vậy không có dòng nào mà sản phẩm không có discount nhưng price != discount_price."
   ]
  },
  {
   "cell_type": "markdown",
   "id": "41ad7be6",
   "metadata": {},
   "source": [
    "#### d. Kiểm tra một số thuộc tính như ram, storage, battery, size, weight"
   ]
  },
  {
   "cell_type": "code",
   "execution_count": null,
   "id": "8f5d50a9",
   "metadata": {},
   "outputs": [],
   "source": [
    "data['ram'].unique()"
   ]
  },
  {
   "cell_type": "code",
   "execution_count": null,
   "id": "ee1fe6b8",
   "metadata": {
    "scrolled": true
   },
   "outputs": [],
   "source": [
    "data['storage'].unique()"
   ]
  },
  {
   "cell_type": "code",
   "execution_count": null,
   "id": "c7ddfc2e",
   "metadata": {
    "scrolled": false
   },
   "outputs": [],
   "source": [
    "data['battery'].unique()"
   ]
  },
  {
   "cell_type": "code",
   "execution_count": null,
   "id": "c9f0b069",
   "metadata": {
    "scrolled": true
   },
   "outputs": [],
   "source": [
    "data['size'].unique()"
   ]
  },
  {
   "cell_type": "code",
   "execution_count": null,
   "id": "d8c8dafc",
   "metadata": {},
   "outputs": [],
   "source": [
    "data['weight'].unique()"
   ]
  },
  {
   "cell_type": "markdown",
   "id": "28c97af1",
   "metadata": {},
   "source": [
    "Nhìn qua ta thấy không có giá trị nào bất thường."
   ]
  },
  {
   "cell_type": "markdown",
   "id": "a45c1ecd",
   "metadata": {},
   "source": [
    "### 2.4. Kiểm tra tính đồng bộ\n",
    "\n",
    "- Có thông tin về tốc độ xử lý cpu nhưng không có thông tin về cpu\n",
    "\n",
    "- Kiểu dữ liệu của data"
   ]
  },
  {
   "cell_type": "markdown",
   "id": "7de2e5a2",
   "metadata": {},
   "source": [
    "#### a."
   ]
  },
  {
   "cell_type": "code",
   "execution_count": null,
   "id": "79f3e01d",
   "metadata": {
    "scrolled": true
   },
   "outputs": [],
   "source": [
    "data[data['cpu'].isnull() & data['cpu_proc_speed'].notnull()].loc[:,['title','cpu','cpu_proc_speed']]"
   ]
  },
  {
   "cell_type": "code",
   "execution_count": null,
   "id": "27d530d3",
   "metadata": {},
   "outputs": [],
   "source": [
    "len(data[data['cpu'].isnull() & data['cpu_proc_speed'].notnull()])"
   ]
  },
  {
   "cell_type": "markdown",
   "id": "75cfa049",
   "metadata": {},
   "source": [
    "Như vậy có 8 dòng bị bất đồng bộ về dữ liệu giữa cpu và tốc độ cpu.\n",
    "\n",
    "- Nguyên nhân có thể do lỗi trong lúc nhập thông tin sản phẩm lên trang web."
   ]
  },
  {
   "cell_type": "markdown",
   "id": "4d767ba6",
   "metadata": {},
   "source": [
    "#### b. Kiểu dữ liệu"
   ]
  },
  {
   "cell_type": "code",
   "execution_count": null,
   "id": "5878aec2",
   "metadata": {},
   "outputs": [],
   "source": [
    "data.info()"
   ]
  },
  {
   "cell_type": "markdown",
   "id": "7e86ee1f",
   "metadata": {},
   "source": [
    "## 3. Clean dữ liệu"
   ]
  },
  {
   "cell_type": "markdown",
   "id": "526b2a47",
   "metadata": {},
   "source": [
    "### 3.1. Xử lý dữ liệu bị lặp\n",
    "\n",
    "- Không có dòng nào bị trùng nên không cẩn xử lý.\n",
    "- Đối với các sản phẩm bị trùng tên, giá thì ta có thể giữ nguyên không cần loại bỏ."
   ]
  },
  {
   "cell_type": "markdown",
   "id": "95187265",
   "metadata": {},
   "source": [
    "### 3.2. Xử lý dữ liệu bị thiếu\n",
    "\n",
    "- Với dữ liệu thiếu về giá, ta có thể để price và discount_price là giá lúc sản phẩm mới ra mắt và để discount = 0%. Hoặc có 1 cách khác là ta có thể loại bỏ các sản phẩm không có giá.\n",
    "\n",
    "- Với các dòng bị thiếu quá nhiều thông tin, ta cũng có thể loại bỏ các dòng đấy.\n",
    "\n",
    "- Với các dữ liệu thiếu về các cột còn lại, ta có thể tìm kiếm trên mạng, trên trang web của hãng để thêm thông tin của sản phẩm."
   ]
  },
  {
   "cell_type": "markdown",
   "id": "3e47549a",
   "metadata": {},
   "source": [
    "### 3.3. Xử lý vấn đề bất thường của dữ liệu\n",
    "\n",
    "- Xử lý vấn đề đồng bộ dữ liệu giữa cpu và tốc độ cpu\n",
    "\n",
    "Đối với vấn đề này ta có thể xử lý bằng cách tìm thông tin về sản phẩm trên mạng, trên web của hãng để thêm thông tin vào. \n",
    "\n",
    "- Kiểu dữ liệu"
   ]
  },
  {
   "cell_type": "code",
   "execution_count": null,
   "id": "0178b12a",
   "metadata": {
    "scrolled": false
   },
   "outputs": [],
   "source": [
    "data.dtypes"
   ]
  },
  {
   "cell_type": "markdown",
   "id": "ff44b475",
   "metadata": {},
   "source": [
    "#### a. Xử lý data type của price và discount_price"
   ]
  },
  {
   "cell_type": "markdown",
   "id": "c6eead38",
   "metadata": {},
   "source": [
    "#### b. Xử lý data type của ram và storage"
   ]
  },
  {
   "cell_type": "code",
   "execution_count": null,
   "id": "62b1dae6",
   "metadata": {},
   "outputs": [],
   "source": [
    "rams = []\n",
    "for ram in data['ram']:\n",
    "    if type(ram)==float:\n",
    "        rams.append(ram)\n",
    "        continue\n",
    "    numeric = ''\n",
    "    for char in ram:\n",
    "        if char.isnumeric(): numeric+=char\n",
    "    rams.append(int(numeric))\n",
    "data['ram'] = pd.Series(rams)\n",
    "data['ram']"
   ]
  },
  {
   "cell_type": "code",
   "execution_count": null,
   "id": "1075f90b",
   "metadata": {},
   "outputs": [],
   "source": [
    "storages = []\n",
    "for storage in data['storage']:\n",
    "    if type(storage)==float:\n",
    "        storages.append(storage)\n",
    "        continue\n",
    "    numeric = ''\n",
    "    for char in storage:\n",
    "        if char.isnumeric(): numeric+=char\n",
    "    storages.append(int(numeric))\n",
    "data['storage'] = pd.Series(storages)\n",
    "data['storage']"
   ]
  }
 ],
 "metadata": {
  "kernelspec": {
   "display_name": "Python 3 (ipykernel)",
   "language": "python",
   "name": "python3"
  },
  "language_info": {
   "codemirror_mode": {
    "name": "ipython",
    "version": 3
   },
   "file_extension": ".py",
   "mimetype": "text/x-python",
   "name": "python",
   "nbconvert_exporter": "python",
   "pygments_lexer": "ipython3",
   "version": "3.7.1"
  }
 },
 "nbformat": 4,
 "nbformat_minor": 5
}
